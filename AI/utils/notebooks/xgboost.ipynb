{
 "cells": [
  {
   "cell_type": "code",
   "execution_count": 8,
   "id": "b6941536",
   "metadata": {},
   "outputs": [
    {
     "name": "stdout",
     "output_type": "stream",
     "text": [
      "Original rows: 370\n"
     ]
    }
   ],
   "source": [
    "import pandas as pd\n",
    "\n",
    "dfproduct3 = pd.read_csv(\n",
    "    r\"C:\\Users\\pc\\Desktop\\AIbazaar\\AIBazaar\\AI\\utils\\newProduct.csv\"\n",
    ")\n",
    "df = pd.read_csv(\n",
    "    r\"C:\\Users\\pc\\Desktop\\AIbazaar\\AIBazaar\\AI\\utils\\products_descriptions.csv\"\n",
    ")\n",
    "df[\"ProductName\"] = dfproduct3[\"Product Name\"].str.strip()\n",
    "\n",
    "df.to_csv(\"filterPhone2.csv\", index=False)\n",
    "print(f\"Original rows: {len(df)}\")"
   ]
  }
 ],
 "metadata": {
  "kernelspec": {
   "display_name": "Python 3",
   "language": "python",
   "name": "python3"
  },
  "language_info": {
   "codemirror_mode": {
    "name": "ipython",
    "version": 3
   },
   "file_extension": ".py",
   "mimetype": "text/x-python",
   "name": "python",
   "nbconvert_exporter": "python",
   "pygments_lexer": "ipython3",
   "version": "3.12.6"
  }
 },
 "nbformat": 4,
 "nbformat_minor": 5
}
