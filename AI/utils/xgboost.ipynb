{
 "cells": [
  {
   "cell_type": "code",
   "execution_count": 8,
   "id": "b6941536",
   "metadata": {},
   "outputs": [
    {
     "name": "stdout",
     "output_type": "stream",
     "text": [
      "0    77999\n",
      "1    55049\n",
      "2    64999\n",
      "3    94999\n",
      "4    94999\n",
      "Name: price_usd, dtype: int64\n",
      "Original rows: 370\n"
     ]
    }
   ],
   "source": [
    "import pandas as pd\n",
    "\n",
    "dfproduct3 = pd.read_csv(r\"C:\\Users\\pc\\Desktop\\AIbazaar\\AIBazaar\\AI\\utils\\products3.csv\")\n",
    "df = pd.read_csv(\n",
    "    r\"C:\\Users\\pc\\Desktop\\AIbazaar\\AIBazaar\\AI\\utils\\csv\\phones_after_2023yeni.csv\"\n",
    ")\n",
    "# Convert Price column to numeric, invalid parsing will be NaN\n",
    "dfproduct3[\"Price\"] = pd.to_numeric(dfproduct3[\"Price\"], errors=\"coerce\")\n",
    "\n",
    "# Keep only rows with Price > 0\n",
    "\n",
    "df[\"price_usd\"] = dfproduct3[\"Price\"]\n",
    "print(df[\"price_usd\"].head(5))\n",
    "df = df[df[\"price_usd\"] > 0]\n",
    "df.to_csv(\"filterPhone.csv\",index=False)\n",
    "print(f\"Original rows: {len(df)}\")"
   ]
  }
 ],
 "metadata": {
  "kernelspec": {
   "display_name": "Python 3",
   "language": "python",
   "name": "python3"
  },
  "language_info": {
   "codemirror_mode": {
    "name": "ipython",
    "version": 3
   },
   "file_extension": ".py",
   "mimetype": "text/x-python",
   "name": "python",
   "nbconvert_exporter": "python",
   "pygments_lexer": "ipython3",
   "version": "3.13.3"
  }
 },
 "nbformat": 4,
 "nbformat_minor": 5
}
